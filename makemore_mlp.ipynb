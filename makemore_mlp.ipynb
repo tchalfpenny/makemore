{
  "cells": [
    {
      "cell_type": "code",
      "execution_count": 1,
      "metadata": {
        "id": "Fk9jnu7QtHjO"
      },
      "outputs": [],
      "source": [
        "import torch\n",
        "import torch.nn.functional as F\n",
        "import matplotlib.pyplot as plt\n",
        "import random\n",
        "%matplotlib inline"
      ]
    },
    {
      "cell_type": "code",
      "execution_count": 2,
      "metadata": {
        "colab": {
          "base_uri": "https://localhost:8080/"
        },
        "id": "g216GE3M-WZT",
        "outputId": "2d52bc47-6127-404c-9949-da1ff9d5f64c"
      },
      "outputs": [
        {
          "data": {
            "text/plain": [
              "['emma', 'olivia', 'ava', 'isabella', 'sophia', 'charlotte', 'mia', 'amelia']"
            ]
          },
          "execution_count": 2,
          "metadata": {},
          "output_type": "execute_result"
        }
      ],
      "source": [
        "# read in all the words\n",
        "words = open('/content/drive/MyDrive/GitHub/makemore_names.txt', 'r').read().splitlines()\n",
        "words[:8]"
      ]
    },
    {
      "cell_type": "code",
      "execution_count": 3,
      "metadata": {
        "colab": {
          "base_uri": "https://localhost:8080/"
        },
        "id": "4wUe7F1R-m68",
        "outputId": "ea3b8051-3fdf-4d2a-a304-eca1966c4202"
      },
      "outputs": [
        {
          "data": {
            "text/plain": [
              "32033"
            ]
          },
          "execution_count": 3,
          "metadata": {},
          "output_type": "execute_result"
        }
      ],
      "source": [
        "len(words)"
      ]
    },
    {
      "cell_type": "code",
      "execution_count": 4,
      "metadata": {
        "colab": {
          "base_uri": "https://localhost:8080/"
        },
        "id": "d6bYxRy5-ouJ",
        "outputId": "5c7e88a4-da5d-49a8-9166-578eb018bcfa"
      },
      "outputs": [
        {
          "name": "stdout",
          "output_type": "stream",
          "text": [
            "{1: 'a', 2: 'b', 3: 'c', 4: 'd', 5: 'e', 6: 'f', 7: 'g', 8: 'h', 9: 'i', 10: 'j', 11: 'k', 12: 'l', 13: 'm', 14: 'n', 15: 'o', 16: 'p', 17: 'q', 18: 'r', 19: 's', 20: 't', 21: 'u', 22: 'v', 23: 'w', 24: 'x', 25: 'y', 26: 'z', 0: '.'}\n"
          ]
        }
      ],
      "source": [
        "# build the vocabulary of characters and mappings to/from integers\n",
        "chars = sorted(list(set(''.join(words))))\n",
        "stoi = {s: i+1 for i, s in enumerate(chars)}\n",
        "stoi['.'] = 0\n",
        "itos = {i:s for s, i in stoi.items()}\n",
        "print(itos)"
      ]
    },
    {
      "cell_type": "code",
      "execution_count": 5,
      "metadata": {
        "id": "G0OsUP9J_GW6"
      },
      "outputs": [],
      "source": [
        "# build the dataset\n",
        "\n",
        "block_size = 3 # context length: how many characters do we take to predict the next one?\n",
        "X, Y = [], []\n",
        "for w in words:\n",
        "\n",
        "  # print(w)\n",
        "  context = [0] * block_size\n",
        "  for ch in w + '.':\n",
        "    ix = stoi[ch]\n",
        "    X.append(context)\n",
        "    Y.append(ix)\n",
        "    # print(''.join(itos[i] for i in context), '--->', itos[ix])\n",
        "    context = context[1:] + [ix] # crop and append\n",
        "\n",
        "X = torch.tensor(X)\n",
        "Y = torch.tensor(Y)"
      ]
    },
    {
      "cell_type": "code",
      "execution_count": 6,
      "metadata": {
        "colab": {
          "base_uri": "https://localhost:8080/"
        },
        "id": "b444TB_kApwq",
        "outputId": "e229e425-d1a0-4bff-ad3d-8070a7ef7474"
      },
      "outputs": [
        {
          "data": {
            "text/plain": [
              "(torch.Size([228146, 3]), torch.int64, torch.Size([228146]), torch.int64)"
            ]
          },
          "execution_count": 6,
          "metadata": {},
          "output_type": "execute_result"
        }
      ],
      "source": [
        "X.shape, X.dtype, Y.shape, Y.dtype"
      ]
    },
    {
      "cell_type": "code",
      "execution_count": 7,
      "metadata": {
        "colab": {
          "base_uri": "https://localhost:8080/"
        },
        "id": "yDQv-qzVqyE_",
        "outputId": "d107a6ee-c03b-44bb-9388-13228887ec74"
      },
      "outputs": [
        {
          "name": "stdout",
          "output_type": "stream",
          "text": [
            "torch.Size([182625, 3]) torch.Size([182625])\n",
            "torch.Size([22655, 3]) torch.Size([22655])\n",
            "torch.Size([22866, 3]) torch.Size([22866])\n"
          ]
        }
      ],
      "source": [
        "# build the dataset\n",
        "def build_dataset(words):\n",
        "  block_size = 3 # context length: how many characters do we take to predict the next one?\n",
        "  X, Y = [], []\n",
        "  for w in words:\n",
        "\n",
        "    # print(w)\n",
        "    context = [0] * block_size\n",
        "    for ch in w + '.':\n",
        "      ix = stoi[ch]\n",
        "      X.append(context)\n",
        "      Y.append(ix)\n",
        "      # print(''.join(itos[i] for i in context), '--->', itos[ix])\n",
        "      context = context[1:] + [ix] # crop and append\n",
        "\n",
        "  X = torch.tensor(X)\n",
        "  Y = torch.tensor(Y)\n",
        "  print(X.shape, Y.shape)\n",
        "  return X, Y\n",
        "\n",
        "random.seed(42)\n",
        "random.shuffle(words)\n",
        "n1 = int(0.8*len(words))\n",
        "n2 = int(0.9*len(words))\n",
        "\n",
        "Xtr, Ytr = build_dataset(words[:n1])\n",
        "Xdev, Ydev = build_dataset(words[n1:n2])\n",
        "Xte, Yte = build_dataset(words[n2:])"
      ]
    },
    {
      "cell_type": "code",
      "execution_count": 8,
      "metadata": {
        "id": "1SzHBh27BebP"
      },
      "outputs": [],
      "source": [
        "C = torch.randn((27, 2))"
      ]
    },
    {
      "cell_type": "code",
      "execution_count": 9,
      "metadata": {
        "colab": {
          "base_uri": "https://localhost:8080/"
        },
        "id": "SSRkzhL1BkAk",
        "outputId": "fabd3d0c-3c71-4a1c-8dc7-f867ad046531"
      },
      "outputs": [
        {
          "data": {
            "text/plain": [
              "tensor([-0.8854,  1.6844])"
            ]
          },
          "execution_count": 9,
          "metadata": {},
          "output_type": "execute_result"
        }
      ],
      "source": [
        "C[5]"
      ]
    },
    {
      "cell_type": "code",
      "execution_count": 10,
      "metadata": {
        "colab": {
          "base_uri": "https://localhost:8080/"
        },
        "id": "h25OzMTOCBh1",
        "outputId": "166e8edc-192a-46ff-96c2-6f9ac65d1f59"
      },
      "outputs": [
        {
          "data": {
            "text/plain": [
              "tensor([-0.8854,  1.6844])"
            ]
          },
          "execution_count": 10,
          "metadata": {},
          "output_type": "execute_result"
        }
      ],
      "source": [
        "F.one_hot(torch.tensor(5), num_classes=27).float() @ C"
      ]
    },
    {
      "cell_type": "code",
      "execution_count": 11,
      "metadata": {
        "colab": {
          "base_uri": "https://localhost:8080/"
        },
        "id": "Z3n6ibNPC0Ak",
        "outputId": "60bcad63-3355-4971-aa2e-7a8a39c064df"
      },
      "outputs": [
        {
          "data": {
            "text/plain": [
              "torch.Size([228146, 3, 2])"
            ]
          },
          "execution_count": 11,
          "metadata": {},
          "output_type": "execute_result"
        }
      ],
      "source": [
        "C[X].shape"
      ]
    },
    {
      "cell_type": "code",
      "execution_count": 12,
      "metadata": {
        "colab": {
          "base_uri": "https://localhost:8080/"
        },
        "id": "qJJNIcXbDPp5",
        "outputId": "3395b017-0fff-49aa-b742-d469464578ae"
      },
      "outputs": [
        {
          "data": {
            "text/plain": [
              "tensor(1)"
            ]
          },
          "execution_count": 12,
          "metadata": {},
          "output_type": "execute_result"
        }
      ],
      "source": [
        "X[13, 2]"
      ]
    },
    {
      "cell_type": "code",
      "execution_count": 13,
      "metadata": {
        "colab": {
          "base_uri": "https://localhost:8080/"
        },
        "id": "723dEvF0DWA5",
        "outputId": "ab437c57-0aaf-4a4f-9819-ac9887fec954"
      },
      "outputs": [
        {
          "data": {
            "text/plain": [
              "tensor([-1.1902, -1.4771])"
            ]
          },
          "execution_count": 13,
          "metadata": {},
          "output_type": "execute_result"
        }
      ],
      "source": [
        "C[X][13, 2]"
      ]
    },
    {
      "cell_type": "code",
      "execution_count": 14,
      "metadata": {
        "colab": {
          "base_uri": "https://localhost:8080/"
        },
        "id": "akOIlSUJDd3e",
        "outputId": "25f4c511-1229-42dd-e7bd-cb5651b8d540"
      },
      "outputs": [
        {
          "data": {
            "text/plain": [
              "tensor([-1.1902, -1.4771])"
            ]
          },
          "execution_count": 14,
          "metadata": {},
          "output_type": "execute_result"
        }
      ],
      "source": [
        "C[1]"
      ]
    },
    {
      "cell_type": "code",
      "execution_count": 15,
      "metadata": {
        "colab": {
          "base_uri": "https://localhost:8080/"
        },
        "collapsed": true,
        "id": "5OAaNMc4DkPm",
        "outputId": "2097ca62-f797-4dbe-ae43-b742fb366e61"
      },
      "outputs": [
        {
          "data": {
            "text/plain": [
              "torch.Size([228146, 3, 2])"
            ]
          },
          "execution_count": 15,
          "metadata": {},
          "output_type": "execute_result"
        }
      ],
      "source": [
        "emb = C[X]\n",
        "emb.shape"
      ]
    },
    {
      "cell_type": "code",
      "execution_count": 16,
      "metadata": {
        "id": "3OyXO8GO0HVe"
      },
      "outputs": [],
      "source": [
        "W1 = torch.randn((6, 100))\n",
        "b1 = torch.randn(100)"
      ]
    },
    {
      "cell_type": "code",
      "execution_count": 17,
      "metadata": {
        "id": "Va7h4Cbl0m_1"
      },
      "outputs": [],
      "source": [
        "h = torch.tanh(emb.view(-1, 6) @ W1 + b1)"
      ]
    },
    {
      "cell_type": "code",
      "execution_count": 18,
      "metadata": {
        "colab": {
          "base_uri": "https://localhost:8080/"
        },
        "id": "oKgOpAeE_Sht",
        "outputId": "f6292010-1248-48b7-a07a-c63f8e91acb4"
      },
      "outputs": [
        {
          "data": {
            "text/plain": [
              "tensor([[-0.8966,  0.9706,  0.9975,  ..., -0.8685, -0.9795,  0.8475],\n",
              "        [-0.5370,  0.1396,  0.9883,  ..., -0.9982,  0.6060, -0.5515],\n",
              "        [-0.8660, -0.3799,  0.8052,  ...,  0.2914, -1.0000,  0.4902],\n",
              "        ...,\n",
              "        [ 0.8514,  0.3016,  0.8112,  ..., -0.8372, -0.9913, -0.9857],\n",
              "        [ 0.9079, -0.8891,  0.9401,  ..., -0.6918, -0.9885, -0.5711],\n",
              "        [-0.9791, -0.9860, -0.9245,  ..., -0.9927,  0.9913, -0.9739]])"
            ]
          },
          "execution_count": 18,
          "metadata": {},
          "output_type": "execute_result"
        }
      ],
      "source": [
        "h"
      ]
    },
    {
      "cell_type": "code",
      "execution_count": 19,
      "metadata": {
        "colab": {
          "base_uri": "https://localhost:8080/"
        },
        "id": "HVky8xTzAUJU",
        "outputId": "417d04fc-84ef-44b5-bb0c-777e8fd68523"
      },
      "outputs": [
        {
          "data": {
            "text/plain": [
              "torch.Size([228146, 100])"
            ]
          },
          "execution_count": 19,
          "metadata": {},
          "output_type": "execute_result"
        }
      ],
      "source": [
        "h.shape"
      ]
    },
    {
      "cell_type": "code",
      "execution_count": 20,
      "metadata": {
        "colab": {
          "base_uri": "https://localhost:8080/"
        },
        "id": "2Hpx1V1nAvQK",
        "outputId": "9a1d4239-0aad-441d-f279-e665ffc4c2bd"
      },
      "outputs": [
        {
          "data": {
            "text/plain": [
              "torch.Size([228146, 100])"
            ]
          },
          "execution_count": 20,
          "metadata": {},
          "output_type": "execute_result"
        }
      ],
      "source": [
        "(emb.view(-1, 6) @ W1).shape"
      ]
    },
    {
      "cell_type": "code",
      "execution_count": 21,
      "metadata": {
        "colab": {
          "base_uri": "https://localhost:8080/"
        },
        "id": "qyAkdbGPAzF_",
        "outputId": "ca69c42e-8857-4eca-f08f-0fcdbf3dcb40"
      },
      "outputs": [
        {
          "data": {
            "text/plain": [
              "torch.Size([100])"
            ]
          },
          "execution_count": 21,
          "metadata": {},
          "output_type": "execute_result"
        }
      ],
      "source": [
        "b1.shape"
      ]
    },
    {
      "cell_type": "code",
      "execution_count": 22,
      "metadata": {
        "id": "nadydwFjA4vy"
      },
      "outputs": [],
      "source": [
        "W2 = torch.randn((100, 27))\n",
        "b2 = torch.randn(27)"
      ]
    },
    {
      "cell_type": "code",
      "execution_count": 23,
      "metadata": {
        "id": "2QV2-RgGBYXi"
      },
      "outputs": [],
      "source": [
        "logits = h @ W2 + b2"
      ]
    },
    {
      "cell_type": "code",
      "execution_count": 24,
      "metadata": {
        "colab": {
          "base_uri": "https://localhost:8080/"
        },
        "id": "9rR7cdQwBbbL",
        "outputId": "98e84299-1afc-4f6d-fc5d-f19c0cbf8c42"
      },
      "outputs": [
        {
          "data": {
            "text/plain": [
              "torch.Size([228146, 27])"
            ]
          },
          "execution_count": 24,
          "metadata": {},
          "output_type": "execute_result"
        }
      ],
      "source": [
        "logits.shape"
      ]
    },
    {
      "cell_type": "code",
      "execution_count": 25,
      "metadata": {
        "id": "yIqoxG6gBg8z"
      },
      "outputs": [],
      "source": [
        "counts = logits.exp()"
      ]
    },
    {
      "cell_type": "code",
      "execution_count": 26,
      "metadata": {
        "id": "BGQpWoI7Bjne"
      },
      "outputs": [],
      "source": [
        "prob = counts / counts.sum(1, keepdims=True)"
      ]
    },
    {
      "cell_type": "code",
      "execution_count": 27,
      "metadata": {
        "colab": {
          "base_uri": "https://localhost:8080/"
        },
        "id": "0jxi_TjQBogt",
        "outputId": "44e9cf54-f8ff-4853-b9ff-fe5520ac0eb1"
      },
      "outputs": [
        {
          "data": {
            "text/plain": [
              "torch.Size([228146, 27])"
            ]
          },
          "execution_count": 27,
          "metadata": {},
          "output_type": "execute_result"
        }
      ],
      "source": [
        "prob.shape"
      ]
    },
    {
      "cell_type": "code",
      "execution_count": null,
      "metadata": {
        "id": "1NlZt_G-B8kv"
      },
      "outputs": [],
      "source": [
        "loss = -prob[torch.arange(32), Y].log().mean()\n",
        "loss"
      ]
    },
    {
      "cell_type": "code",
      "execution_count": null,
      "metadata": {
        "id": "VW_NurWHPpNd"
      },
      "outputs": [],
      "source": [
        "# cleanup"
      ]
    },
    {
      "cell_type": "code",
      "execution_count": 30,
      "metadata": {
        "colab": {
          "base_uri": "https://localhost:8080/"
        },
        "id": "xtHIMfRvQP5k",
        "outputId": "98459d90-a998-427a-dde0-85b8857ddcdd"
      },
      "outputs": [
        {
          "data": {
            "text/plain": [
              "(torch.Size([182625, 3]), torch.Size([182625]))"
            ]
          },
          "execution_count": 30,
          "metadata": {},
          "output_type": "execute_result"
        }
      ],
      "source": [
        "Xtr.shape, Ytr.shape # dataset"
      ]
    },
    {
      "cell_type": "code",
      "execution_count": 31,
      "metadata": {
        "id": "om688RVgQSo2"
      },
      "outputs": [],
      "source": [
        "g = torch.Generator().manual_seed(2147483647) # for reproducibility\n",
        "C = torch.randn((27, 2), generator=g)\n",
        "W1 = torch.randn((6, 300), generator=g)\n",
        "b1 = torch.randn(300, generator=g)\n",
        "W2 = torch.randn((300, 27), generator=g)\n",
        "b2 = torch.randn(27, generator=g)\n",
        "parameters = [C, W1, b1, W2, b2]"
      ]
    },
    {
      "cell_type": "code",
      "execution_count": 32,
      "metadata": {
        "colab": {
          "base_uri": "https://localhost:8080/"
        },
        "id": "0YCbQ7zcRYBR",
        "outputId": "42179549-c1c7-4442-ba1a-9eb7ada1cc49"
      },
      "outputs": [
        {
          "data": {
            "text/plain": [
              "10281"
            ]
          },
          "execution_count": 32,
          "metadata": {},
          "output_type": "execute_result"
        }
      ],
      "source": [
        "sum(p.nelement() for p in parameters) # number of parameters in total"
      ]
    },
    {
      "cell_type": "code",
      "execution_count": 33,
      "metadata": {
        "id": "O3Q421adSNCh"
      },
      "outputs": [],
      "source": [
        "for p in parameters:\n",
        "  p.requires_grad = True"
      ]
    },
    {
      "cell_type": "code",
      "execution_count": 34,
      "metadata": {
        "collapsed": true,
        "id": "XeYG4l2IX_Mz"
      },
      "outputs": [],
      "source": [
        "lre = torch.linspace(-3, 0, 1000)\n",
        "lrs = 10**lre"
      ]
    },
    {
      "cell_type": "code",
      "execution_count": 47,
      "metadata": {
        "id": "GmWDiBINRe1s"
      },
      "outputs": [],
      "source": [
        "lri = []\n",
        "lossi = []\n",
        "stepi = []\n",
        "\n",
        "for i in range(30000):\n",
        "\n",
        "  # minibatch construct\n",
        "  ix = torch.randint(0, Xtr.shape[0], (32,))\n",
        "\n",
        "  # forward pass\n",
        "  emb = C[Xtr[ix]] # (32, 3, 2)\n",
        "  h = torch.tanh(emb.view(-1, 6) @ W1 + b1) # (32, 100)\n",
        "  logits = h @ W2 + b2 # (32, 27)\n",
        "  loss = F.cross_entropy(logits, Ytr[ix])\n",
        "  # print(loss.item())\n",
        "\n",
        "  # backward pass\n",
        "  for p in parameters:\n",
        "    p.grad = None\n",
        "  loss.backward()\n",
        "\n",
        "  # update\n",
        "  # lr = lrs[i]\n",
        "  lr = 0.01\n",
        "  for p in parameters:\n",
        "    p.data += -lr * p.grad\n",
        "\n",
        "  # track stats\n",
        "  # lri.append(lre[i])\n",
        "  lossi.append(loss.item())\n",
        "  stepi.append(i)\n",
        "\n",
        "# print(loss.item())"
      ]
    },
    {
      "cell_type": "code",
      "execution_count": 48,
      "metadata": {
        "colab": {
          "base_uri": "https://localhost:8080/",
          "height": 447
        },
        "id": "XlYliQBows-x",
        "outputId": "a80f8f77-d0ce-4012-e66c-ac526c31debd"
      },
      "outputs": [
        {
          "data": {
            "text/plain": [
              "[<matplotlib.lines.Line2D at 0x7fab25bd0b10>]"
            ]
          },
          "execution_count": 48,
          "metadata": {},
          "output_type": "execute_result"
        },
        {
          "data": {
            "image/png": "[encoded data removed]",
            "text/plain": [
              "<Figure size 640x480 with 1 Axes>"
            ]
          },
          "metadata": {},
          "output_type": "display_data"
        }
      ],
      "source": [
        "plt.plot(stepi, lossi)"
      ]
    },
    {
      "cell_type": "code",
      "execution_count": 49,
      "metadata": {
        "id": "Sir_BcuDqWp7"
      },
      "outputs": [],
      "source": [
        "# training split, dev/validation split, test split\n",
        "# 80%, 10%, 10%"
      ]
    },
    {
      "cell_type": "code",
      "execution_count": 50,
      "metadata": {
        "colab": {
          "base_uri": "https://localhost:8080/"
        },
        "id": "hau-r5Y_vEU6",
        "outputId": "989444ea-1a09-4b83-b27f-1952d6dc59cb"
      },
      "outputs": [
        {
          "data": {
            "text/plain": [
              "tensor(2.3089, grad_fn=<NllLossBackward0>)"
            ]
          },
          "execution_count": 50,
          "metadata": {},
          "output_type": "execute_result"
        }
      ],
      "source": [
        "emb = C[Xtr] # (32, 3, 2)\n",
        "h = torch.tanh(emb.view(-1, 6) @ W1 + b1) # (32, 100)\n",
        "logits = h @ W2 + b2 # (32, 27)\n",
        "loss = F.cross_entropy(logits, Ytr)\n",
        "loss"
      ]
    },
    {
      "cell_type": "code",
      "execution_count": 51,
      "metadata": {
        "colab": {
          "base_uri": "https://localhost:8080/"
        },
        "id": "E042tZi9XSZ_",
        "outputId": "5566775a-39ff-4d23-8f88-9610ece15138"
      },
      "outputs": [
        {
          "data": {
            "text/plain": [
              "tensor(2.3108, grad_fn=<NllLossBackward0>)"
            ]
          },
          "execution_count": 51,
          "metadata": {},
          "output_type": "execute_result"
        }
      ],
      "source": [
        "emb = C[Xdev] # (32, 3, 2)\n",
        "h = torch.tanh(emb.view(-1, 6) @ W1 + b1) # (32, 100)\n",
        "logits = h @ W2 + b2 # (32, 27)\n",
        "loss = F.cross_entropy(logits, Ydev)\n",
        "loss"
      ]
    },
    {
      "cell_type": "code",
      "execution_count": 52,
      "metadata": {
        "colab": {
          "base_uri": "https://localhost:8080/"
        },
        "id": "4Gk3Fx5VwJjW",
        "outputId": "4b6e6869-8fd8-4772-da75-b20c6a39f06b"
      },
      "outputs": [
        {
          "data": {
            "text/plain": [
              "tensor(2.3124, grad_fn=<NllLossBackward0>)"
            ]
          },
          "execution_count": 52,
          "metadata": {},
          "output_type": "execute_result"
        }
      ],
      "source": [
        "emb = C[Xte] # (32, 3, 2)\n",
        "h = torch.tanh(emb.view(-1, 6) @ W1 + b1) # (32, 100)\n",
        "logits = h @ W2 + b2 # (32, 27)\n",
        "loss = F.cross_entropy(logits, Yte)\n",
        "loss"
      ]
    }
  ],
  "metadata": {
    "colab": {
      "provenance": []
    },
    "kernelspec": {
      "display_name": "Python 3",
      "name": "python3"
    },
    "language_info": {
      "name": "python",
      "version": "3.10.12"
    }
  },
  "nbformat": 4,
  "nbformat_minor": 0
}
